{
 "cells": [
  {
   "cell_type": "markdown",
   "metadata": {},
   "source": [
    "# Extracción de datos en base a composición\n",
    "En este notebook buscamos facilitar la extracción de datos a partir del input de todos los periodicos disponibles de 2022 a 2025. Esto con el fin de obtener bases de datos mucho más completas que nos permitan medir mejor la incidencia de las decisiones de redacción en relación con la cantidad de ventas de Nuestro Diario. "
   ]
  },
  {
   "cell_type": "markdown",
   "metadata": {},
   "source": [
    "### Conexión del NAS \n",
    "Esta conexión nos permite tener todos los PDFs de 2022 a 2025. Luego los transformamos a imágenes y empezando a extraer datos de cada una. Con esto aumentamos la base de datos disponible y usamos esas variables para pronosticar la cantidad de ventas según la composición "
   ]
  },
  {
   "cell_type": "code",
   "execution_count": null,
   "metadata": {},
   "outputs": [],
   "source": []
  }
 ],
 "metadata": {
  "kernelspec": {
   "display_name": "Python 3",
   "language": "python",
   "name": "python3"
  },
  "language_info": {
   "codemirror_mode": {
    "name": "ipython",
    "version": 3
   },
   "file_extension": ".py",
   "mimetype": "text/x-python",
   "name": "python",
   "nbconvert_exporter": "python",
   "pygments_lexer": "ipython3",
   "version": "3.12.1"
  }
 },
 "nbformat": 4,
 "nbformat_minor": 2
}
