{
 "cells": [
  {
   "cell_type": "code",
   "execution_count": 1,
   "metadata": {},
   "outputs": [
    {
     "name": "stderr",
     "output_type": "stream",
     "text": [
      "/usr/local/python/3.12.1/lib/python3.12/site-packages/tqdm/auto.py:21: TqdmWarning: IProgress not found. Please update jupyter and ipywidgets. See https://ipywidgets.readthedocs.io/en/stable/user_install.html\n",
      "  from .autonotebook import tqdm as notebook_tqdm\n"
     ]
    },
    {
     "data": {
      "text/html": [
       "<div>\n",
       "<style scoped>\n",
       "    .dataframe tbody tr th:only-of-type {\n",
       "        vertical-align: middle;\n",
       "    }\n",
       "\n",
       "    .dataframe tbody tr th {\n",
       "        vertical-align: top;\n",
       "    }\n",
       "\n",
       "    .dataframe thead th {\n",
       "        text-align: right;\n",
       "    }\n",
       "</style>\n",
       "<table border=\"1\" class=\"dataframe\">\n",
       "  <thead>\n",
       "    <tr style=\"text-align: right;\">\n",
       "      <th></th>\n",
       "      <th>id</th>\n",
       "      <th>titulo</th>\n",
       "      <th>subtitular</th>\n",
       "      <th>categoria</th>\n",
       "    </tr>\n",
       "  </thead>\n",
       "  <tbody>\n",
       "    <tr>\n",
       "      <th>0</th>\n",
       "      <td>010222nacional</td>\n",
       "      <td>celebracion lo lleva a la muerte</td>\n",
       "      <td>ya no llego a darles el abrazo a sus papas, en...</td>\n",
       "      <td>Comunidades</td>\n",
       "    </tr>\n",
       "    <tr>\n",
       "      <th>1</th>\n",
       "      <td>010322nacional</td>\n",
       "      <td>campeon historico</td>\n",
       "      <td>los toros suman su primer titulo de liga nacional</td>\n",
       "      <td>Deporte</td>\n",
       "    </tr>\n",
       "    <tr>\n",
       "      <th>2</th>\n",
       "      <td>010322occidente</td>\n",
       "      <td>invierten en obras</td>\n",
       "      <td>cuatro comunidades de san pedro sacatepequez s...</td>\n",
       "      <td>Comunidades</td>\n",
       "    </tr>\n",
       "    <tr>\n",
       "      <th>3</th>\n",
       "      <td>010322centro</td>\n",
       "      <td>abarrotan balneario</td>\n",
       "      <td>los aposentos recibe a cientos de chimaltecos ...</td>\n",
       "      <td>Comunidades</td>\n",
       "    </tr>\n",
       "    <tr>\n",
       "      <th>4</th>\n",
       "      <td>010322sur</td>\n",
       "      <td>caen en hondonada</td>\n",
       "      <td>percance vial en santa maria el naranjo coatep...</td>\n",
       "      <td>Accidentes Viales</td>\n",
       "    </tr>\n",
       "  </tbody>\n",
       "</table>\n",
       "</div>"
      ],
      "text/plain": [
       "                id                            titulo  \\\n",
       "0   010222nacional  celebracion lo lleva a la muerte   \n",
       "1   010322nacional                 campeon historico   \n",
       "2  010322occidente                invierten en obras   \n",
       "3     010322centro               abarrotan balneario   \n",
       "4        010322sur                 caen en hondonada   \n",
       "\n",
       "                                          subtitular          categoria  \n",
       "0  ya no llego a darles el abrazo a sus papas, en...        Comunidades  \n",
       "1  los toros suman su primer titulo de liga nacional            Deporte  \n",
       "2  cuatro comunidades de san pedro sacatepequez s...        Comunidades  \n",
       "3  los aposentos recibe a cientos de chimaltecos ...        Comunidades  \n",
       "4  percance vial en santa maria el naranjo coatep...  Accidentes Viales  "
      ]
     },
     "execution_count": 1,
     "metadata": {},
     "output_type": "execute_result"
    }
   ],
   "source": [
    "import pandas as pd\n",
    "from transformers import BertTokenizer, BertForSequenceClassification\n",
    "import torch\n",
    "\n",
    "df = pd.read_csv('categories.csv')\n",
    "df.head()"
   ]
  },
  {
   "cell_type": "code",
   "execution_count": null,
   "metadata": {},
   "outputs": [],
   "source": [
    "# Load BETO tokenizer and model\n",
    "tokenizer = BertTokenizer.from_pretrained('dccuchile/bert-base-spanish-wwm-uncased')\n",
    "model = BertForSequenceClassification.from_pretrained('dccuchile/bert-base-spanish-wwm-uncased', num_labels=len(df['categoria'].unique()))\n",
    "\n",
    "# Preprocess the title and subtitle into the format the model expects\n",
    "def preprocess_text(row):\n",
    "    # Ensure both title and subtitle are strings (handle NaN)\n",
    "    title = str(row['titulo']) if pd.notnull(row['titulo']) else ''\n",
    "    subtitle = str(row['subtitular']) if pd.notnull(row['subtitular']) else ''\n",
    "    \n",
    "    # Concatenate title and subtitle\n",
    "    text = title + \" \" + subtitle\n",
    "    return tokenizer(text, padding=True, truncation=True, max_length=512, return_tensors=\"pt\")"
   ]
  },
  {
   "cell_type": "code",
   "execution_count": null,
   "metadata": {},
   "outputs": [],
   "source": [
    "# Apply preprocessing to your data\n",
    "df['inputs'] = df.apply(preprocess_text, axis=1)\n",
    "\n",
    "def classify_newspaper(text):\n",
    "    # Preprocess the input text (new title and subtitle)\n",
    "    inputs = tokenizer(text, return_tensors=\"pt\", padding=True, truncation=True, max_length=512)\n",
    "    \n",
    "    # Get model predictions\n",
    "    with torch.no_grad():\n",
    "        outputs = model(**inputs)\n",
    "        logits = outputs.logits\n",
    "    \n",
    "    # Get the predicted category\n",
    "    predicted_class = torch.argmax(logits, dim=1).item()\n",
    "    return df['categoria'].unique()[predicted_class]"
   ]
  },
  {
   "cell_type": "code",
   "execution_count": null,
   "metadata": {},
   "outputs": [],
   "source": [
    "# Test the classification with a new title and subtitle\n",
    "titulo = \"Carro choca en media via\"\n",
    "subtitulo = \"15 personas mueren en golpe de autobus luego de pasar por la carretera las fuentes\"\n",
    "new_text = titulo + \" \" + subtitulo\n",
    "print(classify_newspaper(new_text))"
   ]
  }
 ],
 "metadata": {
  "kernelspec": {
   "display_name": "Python 3",
   "language": "python",
   "name": "python3"
  },
  "language_info": {
   "codemirror_mode": {
    "name": "ipython",
    "version": 3
   },
   "file_extension": ".py",
   "mimetype": "text/x-python",
   "name": "python",
   "nbconvert_exporter": "python",
   "pygments_lexer": "ipython3",
   "version": "3.12.1"
  }
 },
 "nbformat": 4,
 "nbformat_minor": 2
}
